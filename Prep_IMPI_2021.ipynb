{
 "cells": [
  {
   "cell_type": "code",
   "execution_count": 1,
   "id": "fleet-district",
   "metadata": {},
   "outputs": [],
   "source": [
    "import pandas as pd\n",
    "import os\n",
    "import re"
   ]
  },
  {
   "cell_type": "code",
   "execution_count": 2,
   "id": "suffering-imagination",
   "metadata": {},
   "outputs": [],
   "source": [
    "path_MC3 = os.path.dirname(os.path.abspath('__file__'))\n",
    "df_MC3 = pd.read_excel(path_MC3+'\\\\impi-2021-q4pre-20211001-dist_0.xlsx', sheet_name = [0,1])\n",
    "\n",
    "df_MC3[1]['Homologs'] = df_MC3[1]['Homologs'].astype(str)\n",
    "\n",
    "df_MC3[1]['Ensembl Gene ID Mus Musculus'] = [re.findall(r\"ENSMUSG\\d+\",df_MC3[1]['Homologs'][i]) for i in range(len(df_MC3[1]))]\n",
    "\n",
    "df_MC3[1] = df_MC3[1][[True if len(df_MC3[1]['Ensembl Gene ID Mus Musculus'][i]) == 1 else False for i in range(len(df_MC3[1]))]].reset_index(drop=True)\n",
    "\n",
    "df_MC3[1]['Ensembl Gene ID Mus Musculus'] = [df_MC3[1]['Ensembl Gene ID Mus Musculus'][i][0] for i in range(len(df_MC3[1]))]\n",
    "\n",
    "df_MC3[1]['IMPI Class'] = [df_MC3[1]['IMPI Class'][i].split('; ')[0] for i in range(len(df_MC3[1]))]\n",
    "\n",
    "df_MC3[1].to_csv(path_MC3+'\\\\IMPI_2021_Q4pre_Mus_Musculus.csv')"
   ]
  },
  {
   "cell_type": "code",
   "execution_count": null,
   "id": "textile-thread",
   "metadata": {},
   "outputs": [],
   "source": []
  },
  {
   "cell_type": "code",
   "execution_count": null,
   "id": "gross-institution",
   "metadata": {},
   "outputs": [],
   "source": []
  }
 ],
 "metadata": {
  "kernelspec": {
   "display_name": "Python_3.8 (Mito_eLife)",
   "language": "python",
   "name": "mito_elife"
  },
  "language_info": {
   "codemirror_mode": {
    "name": "ipython",
    "version": 3
   },
   "file_extension": ".py",
   "mimetype": "text/x-python",
   "name": "python",
   "nbconvert_exporter": "python",
   "pygments_lexer": "ipython3",
   "version": "3.8.13"
  }
 },
 "nbformat": 4,
 "nbformat_minor": 5
}
