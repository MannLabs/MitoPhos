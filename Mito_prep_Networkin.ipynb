{
 "cells": [
  {
   "cell_type": "code",
   "execution_count": 1,
   "id": "transsexual-geometry",
   "metadata": {},
   "outputs": [],
   "source": [
    "import pandas as pd\n",
    "import numpy as np\n",
    "from pyteomics import fasta\n",
    "import sys\n",
    "import os\n",
    "from collections import Counter\n",
    "import matplotlib.pyplot as plt"
   ]
  },
  {
   "cell_type": "markdown",
   "id": "democratic-marathon",
   "metadata": {},
   "source": [
    "<h1> NetworKin Upload Table preparation"
   ]
  },
  {
   "cell_type": "code",
   "execution_count": 2,
   "id": "bibliographic-tongue",
   "metadata": {},
   "outputs": [
    {
     "name": "stderr",
     "output_type": "stream",
     "text": [
      "C:\\Users\\fhansen\\AppData\\Local\\Temp\\ipykernel_11868\\3351142722.py:33: SettingWithCopyWarning: \n",
      "A value is trying to be set on a copy of a slice from a DataFrame.\n",
      "Try using .loc[row_indexer,col_indexer] = value instead\n",
      "\n",
      "See the caveats in the documentation: https://pandas.pydata.org/pandas-docs/stable/user_guide/indexing.html#returning-a-view-versus-a-copy\n",
      "  Modifications['Position'] = df['Position'].astype(int)\n"
     ]
    }
   ],
   "source": [
    "##############################################\n",
    "##### NetworKin Upload Table preparation #####\n",
    "##############################################\n",
    "\n",
    "## open nescessary files for NetworKin input tables\n",
    "path_read = os.path.abspath('')+'\\\\Prepared_tables'\n",
    "path_read_fasta = os.path.abspath('')\n",
    "path_save = os.path.abspath('')+'\\\\Prepared_tables'\n",
    "\n",
    "full_mouse_fasta = fasta.IndexedUniProt(path_read_fasta+'\\\\20201019_Mus musculus_10090_UP000000589.fasta')\n",
    "df = pd.read_csv((path_read+ '\\\\Prep_STYsites_mito.csv'), low_memory= False)\n",
    "\n",
    "## get ids (UniprotIDs) from fasta  \n",
    "ids = [full_mouse_fasta[i][0]['id'] for i in range(len(full_mouse_fasta))]\n",
    "\n",
    "## get all proteins (UniProtIDs) from Prep_STYsites\n",
    "prots = list(set(df['Protein']))\n",
    "\n",
    "## get a list of sequences for all proteins in Prep_STYsites\n",
    "seq = []\n",
    "for p in prots:\n",
    "    [seq.append('>'+p +'\\n'+full_mouse_fasta[i][1]) for i in range(len(full_mouse_fasta)) if p == ids[i]]\n",
    "\n",
    "## write list of sequences. This list will be used for the NetworKin online tool to predict KSA    \n",
    "Networkin_Sequence_input=open(path_save + '\\\\Networkin_input.txt','w')\n",
    "for element in seq:\n",
    "     Networkin_Sequence_input.write(element)\n",
    "     Networkin_Sequence_input.write('\\n')\n",
    "Networkin_Sequence_input.close()\n",
    "\n",
    "## write list of modifications for proteines. This list makes the annotation of modified sites in the online tool a lot easier \n",
    "Modifications = df[['Protein','Amino acid']]\n",
    "Modifications['Position'] = df['Position'].astype(int)\n",
    "\n",
    "Modifications.to_csv(path_save+ '\\\\Modifications_Networkin_input.txt',sep='\\t', header = False, index = False)"
   ]
  },
  {
   "cell_type": "code",
   "execution_count": null,
   "id": "sacred-ratio",
   "metadata": {},
   "outputs": [],
   "source": []
  }
 ],
 "metadata": {
  "kernelspec": {
   "display_name": "Python_3.8 (Mito_eLife)",
   "language": "python",
   "name": "mito_elife"
  },
  "language_info": {
   "codemirror_mode": {
    "name": "ipython",
    "version": 3
   },
   "file_extension": ".py",
   "mimetype": "text/x-python",
   "name": "python",
   "nbconvert_exporter": "python",
   "pygments_lexer": "ipython3",
   "version": "3.8.13"
  }
 },
 "nbformat": 4,
 "nbformat_minor": 5
}
