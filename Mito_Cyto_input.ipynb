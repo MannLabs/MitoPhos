{
 "cells": [
  {
   "cell_type": "code",
   "execution_count": 1,
   "id": "nasty-tsunami",
   "metadata": {},
   "outputs": [],
   "source": [
    "import pandas as pd\n",
    "import numpy as np\n",
    "import sys\n",
    "import os"
   ]
  },
  {
   "cell_type": "code",
   "execution_count": 2,
   "id": "alike-tuning",
   "metadata": {},
   "outputs": [],
   "source": [
    "path = os.path.dirname(os.path.abspath('__file__'))+'\\\\Prepared_tables\\\\'\n",
    "df = pd.read_csv(path + 'Prep_Protein Groups_cut05_notimuted.csv', low_memory=False)"
   ]
  },
  {
   "cell_type": "code",
   "execution_count": 3,
   "id": "blond-harvard",
   "metadata": {},
   "outputs": [],
   "source": [
    "def get_mito_annotation(df):    \n",
    "    mitochondrial = []\n",
    "    for i in range(len(df)):\n",
    "        if 'Verified mitochondrial' in df['IMPI_new'][i] or str(df['SubMitoLocalization'][i])!='nan':\n",
    "            mitochondrial.append('Mitochondrial')\n",
    "        elif 'Ancillary' in df['IMPI_new'][i] or 'Associated' in df['IMPI_new'][i]:\n",
    "            mitochondrial.append('Associated')\n",
    "        else:\n",
    "            mitochondrial.append('Not Mitochondrial')\n",
    "            \n",
    "    return mitochondrial\n"
   ]
  },
  {
   "cell_type": "code",
   "execution_count": 6,
   "id": "clinical-andrews",
   "metadata": {},
   "outputs": [],
   "source": [
    "df['StringID'] = [list(str(df['StringID'][i]).split(';')) for i in range(len(df))]\n",
    "df['IMPI_new'] = [list(str(df['IMPI_new'][i]).split(';')) for i in range(len(df))]\n",
    "df['Majority protein IDs'] = [list(str(df['Majority protein IDs'][i]).split(';')) for i in range(len(df))]\n",
    "df['ESNG'] = [list(str(df['ESNG'][i]).split(';')) for i in range(len(df))]\n",
    "df['Entrez_GeneID'] = [list(str(df['Entrez_GeneID'][i]).split(';')) for i in range(len(df))]\n",
    "\n",
    "\n",
    "df['Cyto_ID'] =  [[df['StringID'][x][i] for i in range(len(df['StringID'][x])) if df['StringID'][x][i] !=''][0] if list(set(df['StringID'][x])) != [''] else 'nan' for x in range(len(df))]\n",
    "df['Cyto_IMPI'] = [[df['IMPI_new'][x][i] for i in range(len(df['StringID'][x])) if df['StringID'][x][i] !=''][0] if list(set(df['StringID'][x])) != [''] else 'nan' for x in range(len(df))]\n",
    "df['Cyto_ProteinID'] = [[df['Majority protein IDs'][x][i] for i in range(len(df['StringID'][x])) if df['StringID'][x][i] !=''][0] if list(set(df['StringID'][x])) != [''] else 'nan' for x in range(len(df))]\n",
    "df['Cyto_ESNG'] = [[df['ESNG'][x][i] for i in range(len(df['StringID'][x])) if df['StringID'][x][i] !=''][0] if list(set(df['StringID'][x])) != [''] else 'nan' for x in range(len(df))]\n",
    "df['Cyto_Entrez_GeneID'] = [[df['Entrez_GeneID'][x][i] for i in range(len(df['StringID'][x])) if df['StringID'][x][i] !=''][0] if list(set(df['StringID'][x])) != [''] else 'nan' for x in range(len(df))]\n",
    "\n",
    "df['StringID']= [';'.join(df['StringID'][i]) for i in range(len(df))]\n",
    "df['IMPI_new']= [';'.join(df['IMPI_new'][i]) for i in range(len(df))]\n",
    "df['Protein IDs']= [';'.join(df['Protein IDs'][i]) for i in range(len(df))]\n",
    "df['ESNG']= [';'.join(df['ESNG'][i]) for i in range(len(df))]\n",
    "df['Entrez_GeneID']= [';'.join(df['Entrez_GeneID'][i]) for i in range(len(df))]\n",
    "\n",
    "\n",
    "#df['Mitochondrial'] = ['Mitochondrial' if df['Cyto_IMPI'][i] == 'Known mitochondrial' or df['Cyto_IMPI'][i] == 'Predicted mitochondrial' or str(df['SubMitoLocalization'][i]) != 'nan' else 'Not Mitochondrial' for i in range(len(df)) ]\n",
    "df['Mitochondrial'] = get_mito_annotation(df)\n",
    "#MyList = [df['Cyto_ID'][i] for i in range(len(df)) if df['Cyto_ID'][i] != 'nan']\n",
    "#MyFile=open(path+ 'Prep_ProteinGroups_allproteins_75_Cyto_input.txt','w')\n",
    "#\n",
    "#for element in MyList:\n",
    "#     MyFile.write(element)\n",
    "#     MyFile.write('\\n')\n",
    "#MyFile.close()\n",
    "\n",
    "#df.to_csv((path+ 'Prep_ProteinGroups_allproteins_75.csv'), index= False)\n"
   ]
  },
  {
   "cell_type": "code",
   "execution_count": 7,
   "id": "compressed-military",
   "metadata": {},
   "outputs": [],
   "source": [
    "df_wo_dup = df.drop_duplicates(subset=['Cyto_ID'])\n",
    "df_wo_dup =df_wo_dup[df_wo_dup['Cyto_ID']!='nan'].reset_index(drop= True)\n",
    "\n",
    "df_wo_dup['Heart_ID'] = df_wo_dup['Valid values_H_']*df_wo_dup['Values_Tissue_H_']\n",
    "df_wo_dup['Heart_ID'] = df_wo_dup['Heart_ID'].astype(int)\n",
    "\n",
    "df_wo_dup['SKM_ID'] = df_wo_dup['Valid values_SKM_']*df_wo_dup['Values_Tissue_SKM_']\n",
    "df_wo_dup['SKM_ID'] = df_wo_dup['SKM_ID'].astype(int)\n",
    "\n",
    "df_wo_dup['BAT_ID'] = df_wo_dup['Valid values_BAT_']*df_wo_dup['Values_Tissue_BAT_']\n",
    "df_wo_dup['BAT_ID'] = df_wo_dup['BAT_ID'].astype(int)\n",
    "\n",
    "df_wo_dup['Kidney_ID'] = df_wo_dup['Valid values_K_']*df_wo_dup['Values_Tissue_K_']\n",
    "df_wo_dup['Kidney_ID'] = df_wo_dup['Kidney_ID'].astype(int)\n",
    "\n",
    "df_wo_dup['Liver_ID'] = df_wo_dup['Valid values_L_']*df_wo_dup['Values_Tissue_L_']\n",
    "df_wo_dup['Liver_ID'] = df_wo_dup['Liver_ID'].astype(int)\n",
    "\n",
    "df_wo_dup['Brain_ID'] = df_wo_dup['Valid values_B_']*df_wo_dup['Values_Tissue_B_']\n",
    "df_wo_dup['Brain_ID'] = df_wo_dup['Brain_ID'].astype(int)\n",
    "\n",
    "df_wo_dup['Spleen_ID'] = df_wo_dup['Valid values_S_']*df_wo_dup['Values_Tissue_S_']\n",
    "df_wo_dup['Spleen_ID'] = df_wo_dup['Spleen_ID'].astype(int)\n",
    "\n",
    "df_wo_dup['Summed_ID'] = df_wo_dup['Heart_ID']+df_wo_dup['BAT_ID']+df_wo_dup['SKM_ID']+df_wo_dup['Spleen_ID']+df_wo_dup['Brain_ID']+df_wo_dup['Kidney_ID']+df_wo_dup['Liver_ID']\n",
    "df_wo_dup['H_SKM_BAT_L_K_B_S_over5'] = (df_wo_dup['Heart_ID']>=5).astype(str)+'_'+(df_wo_dup['SKM_ID']>=5).astype(str)+'_'+(df_wo_dup['BAT_ID']>=5).astype(str)+'_'+(df_wo_dup['Liver_ID']>=5).astype(str)+'_'+(df_wo_dup['Kidney_ID']>=5).astype(str)+'_'+(df_wo_dup['Brain_ID']>=5).astype(str)+'_'+(df_wo_dup['Spleen_ID']>=5).astype(str)"
   ]
  },
  {
   "cell_type": "code",
   "execution_count": 8,
   "id": "turkish-lecture",
   "metadata": {},
   "outputs": [],
   "source": [
    "MyList = [df_wo_dup['Cyto_ID'][i] for i in range(len(df_wo_dup)) if df_wo_dup['Cyto_ID'][i] != 'nan']\n",
    "MyFile=open(path+ 'Prep_Cyto_annotated_input.txt','w')\n",
    "\n",
    "for element in MyList:\n",
    "     MyFile.write(element)\n",
    "     MyFile.write('\\n')\n",
    "MyFile.close()"
   ]
  },
  {
   "cell_type": "code",
   "execution_count": 9,
   "id": "ranking-colors",
   "metadata": {},
   "outputs": [],
   "source": [
    "df_wo_dup.to_csv((path+ 'Cyto_network_annotated.csv'), index= False)"
   ]
  },
  {
   "cell_type": "code",
   "execution_count": null,
   "id": "nutritional-picture",
   "metadata": {},
   "outputs": [],
   "source": []
  }
 ],
 "metadata": {
  "kernelspec": {
   "display_name": "Python_3.8 (Mito_eLife)",
   "language": "python",
   "name": "mito_elife"
  },
  "language_info": {
   "codemirror_mode": {
    "name": "ipython",
    "version": 3
   },
   "file_extension": ".py",
   "mimetype": "text/x-python",
   "name": "python",
   "nbconvert_exporter": "python",
   "pygments_lexer": "ipython3",
   "version": "3.8.13"
  }
 },
 "nbformat": 4,
 "nbformat_minor": 5
}
